{
  "nbformat": 4,
  "nbformat_minor": 0,
  "metadata": {
    "colab": {
      "name": "Assignment2.ipynb",
      "provenance": [],
      "authorship_tag": "ABX9TyMWdYnT/82A+5DCyU+EssfW",
      "include_colab_link": true
    },
    "kernelspec": {
      "name": "python3",
      "display_name": "Python 3"
    }
  },
  "cells": [
    {
      "cell_type": "markdown",
      "metadata": {
        "id": "view-in-github",
        "colab_type": "text"
      },
      "source": [
        "<a href=\"https://colab.research.google.com/github/joyce-huang/JSC270_Assg2/blob/joyce-huang-branch/Assignment2.ipynb\" target=\"_parent\"><img src=\"https://colab.research.google.com/assets/colab-badge.svg\" alt=\"Open In Colab\"/></a>"
      ]
    },
    {
      "cell_type": "code",
      "metadata": {
        "id": "AyN8eQnVAmdF"
      },
      "source": [
        "import pandas as pd\r\n",
        "import numpy as np\r\n",
        "import matplotlib.pyplot as plt\r\n",
        "import seaborn as sns\r\n",
        "from scipy import stats\r\n",
        "import statsmodels.api as sm\r\n",
        "import statsmodels.formula.api as smf"
      ],
      "execution_count": 118,
      "outputs": []
    },
    {
      "cell_type": "code",
      "metadata": {
        "id": "kO9z_0-HBJ1G"
      },
      "source": [
        "income94 = pd.read_csv('https://archive.ics.uci.edu/ml/machine-learning-databases/adult/adult.data', header=None)\r\n",
        "income94.columns = ['age','workclass', 'fnlwgt','education','education_num','marital_status','occupation',\r\n",
        "                    'relationship','race','sex','capital_gain','capital_loss','hours_per_week','native_country','gross_income_group']"
      ],
      "execution_count": 104,
      "outputs": []
    },
    {
      "cell_type": "markdown",
      "metadata": {
        "id": "ZApP_ithVvpt"
      },
      "source": [
        "##Initial Data Exploration"
      ]
    },
    {
      "cell_type": "markdown",
      "metadata": {
        "id": "4EMwazNgWEWZ"
      },
      "source": [
        "###Question 1"
      ]
    },
    {
      "cell_type": "code",
      "metadata": {
        "colab": {
          "base_uri": "https://localhost:8080/",
          "height": 0
        },
        "id": "OTgjMo0tV3h6",
        "outputId": "3bd26e94-71fe-4c6a-f2e3-a08796808823"
      },
      "source": [
        "income94.info()"
      ],
      "execution_count": 105,
      "outputs": [
        {
          "output_type": "stream",
          "text": [
            "<class 'pandas.core.frame.DataFrame'>\n",
            "RangeIndex: 32561 entries, 0 to 32560\n",
            "Data columns (total 15 columns):\n",
            " #   Column              Non-Null Count  Dtype \n",
            "---  ------              --------------  ----- \n",
            " 0   age                 32561 non-null  int64 \n",
            " 1   workclass           32561 non-null  object\n",
            " 2   fnlwgt              32561 non-null  int64 \n",
            " 3   education           32561 non-null  object\n",
            " 4   education_num       32561 non-null  int64 \n",
            " 5   marital_status      32561 non-null  object\n",
            " 6   occupation          32561 non-null  object\n",
            " 7   relationship        32561 non-null  object\n",
            " 8   race                32561 non-null  object\n",
            " 9   sex                 32561 non-null  object\n",
            " 10  capital_gain        32561 non-null  int64 \n",
            " 11  capital_loss        32561 non-null  int64 \n",
            " 12  hours_per_week      32561 non-null  int64 \n",
            " 13  native_country      32561 non-null  object\n",
            " 14  gross_income_group  32561 non-null  object\n",
            "dtypes: int64(6), object(9)\n",
            "memory usage: 3.7+ MB\n"
          ],
          "name": "stdout"
        }
      ]
    },
    {
      "cell_type": "markdown",
      "metadata": {
        "id": "-a_MWnZnVAO5"
      },
      "source": [
        "From a brief glance at the values in the table, they do seem to match the data types given in the adult.names text file. The column gross_income_group does not appear in the data types at the bottom of adult.names, but the file states that the income was discretized to two groups, >50K and <= 50K, which is contained in the gross_income_group column."
      ]
    },
    {
      "cell_type": "markdown",
      "metadata": {
        "id": "2pqQce8nWGzn"
      },
      "source": [
        "###Question 2"
      ]
    },
    {
      "cell_type": "markdown",
      "metadata": {
        "id": "38hEPMF0WgEE"
      },
      "source": [
        "The adult.names text file specifies that any unknown values were set to \"?\"."
      ]
    },
    {
      "cell_type": "code",
      "metadata": {
        "colab": {
          "base_uri": "https://localhost:8080/",
          "height": 0
        },
        "id": "3ZG3DmoGXOCs",
        "outputId": "66954e28-93e5-4f16-d298-ed18df089868"
      },
      "source": [
        "income94 = income94.replace(\" ?\", np.NaN)\r\n",
        "income94.isnull().sum()"
      ],
      "execution_count": 36,
      "outputs": [
        {
          "output_type": "execute_result",
          "data": {
            "text/plain": [
              "age                      0\n",
              "workclass             1836\n",
              "fnlwgt                   0\n",
              "education                0\n",
              "education_num            0\n",
              "marital_status           0\n",
              "occupation            1843\n",
              "relationship             0\n",
              "race                     0\n",
              "sex                      0\n",
              "capital_gain             0\n",
              "capital_loss             0\n",
              "hours_per_week           0\n",
              "native_country         583\n",
              "gross_income_group       0\n",
              "dtype: int64"
            ]
          },
          "metadata": {
            "tags": []
          },
          "execution_count": 36
        }
      ]
    },
    {
      "cell_type": "markdown",
      "metadata": {
        "id": "b3oCpDWlWKGG"
      },
      "source": [
        "###Question 3"
      ]
    },
    {
      "cell_type": "code",
      "metadata": {
        "colab": {
          "base_uri": "https://localhost:8080/",
          "height": 421
        },
        "id": "UchfD3brZRSu",
        "outputId": "0ac5f97e-5e43-4871-e483-e012762a57d2"
      },
      "source": [
        "plt.hist(income94.capital_gain, bins = 20)"
      ],
      "execution_count": 21,
      "outputs": [
        {
          "output_type": "execute_result",
          "data": {
            "text/plain": [
              "(array([3.0913e+04, 8.7800e+02, 1.5700e+02, 3.6000e+02, 3.8000e+01,\n",
              "        4.9000e+01, 5.0000e+00, 0.0000e+00, 2.0000e+00, 0.0000e+00,\n",
              "        0.0000e+00, 0.0000e+00, 0.0000e+00, 0.0000e+00, 0.0000e+00,\n",
              "        0.0000e+00, 0.0000e+00, 0.0000e+00, 0.0000e+00, 1.5900e+02]),\n",
              " array([    0.  ,  4999.95,  9999.9 , 14999.85, 19999.8 , 24999.75,\n",
              "        29999.7 , 34999.65, 39999.6 , 44999.55, 49999.5 , 54999.45,\n",
              "        59999.4 , 64999.35, 69999.3 , 74999.25, 79999.2 , 84999.15,\n",
              "        89999.1 , 94999.05, 99999.  ]),\n",
              " <a list of 20 Patch objects>)"
            ]
          },
          "metadata": {
            "tags": []
          },
          "execution_count": 21
        },
        {
          "output_type": "display_data",
          "data": {
            "image/png": "[encoded data removed]",
            "text/plain": [
              "<Figure size 432x288 with 1 Axes>"
            ]
          },
          "metadata": {
            "tags": [],
            "needs_background": "light"
          }
        }
      ]
    },
    {
      "cell_type": "code",
      "metadata": {
        "colab": {
          "base_uri": "https://localhost:8080/",
          "height": 404
        },
        "id": "bhUmrAkFkmDS",
        "outputId": "d5b36b6c-2ae0-4bcc-f4b0-a3a0377858eb"
      },
      "source": [
        "plt.hist(income94.capital_loss, bins = 20)"
      ],
      "execution_count": 22,
      "outputs": [
        {
          "output_type": "execute_result",
          "data": {
            "text/plain": [
              "(array([3.1047e+04, 6.0000e+00, 1.5000e+01, 2.0000e+00, 8.0000e+00,\n",
              "        1.3000e+01, 1.0500e+02, 3.5600e+02, 4.7500e+02, 3.0400e+02,\n",
              "        1.1900e+02, 8.8000e+01, 1.2000e+01, 2.0000e+00, 0.0000e+00,\n",
              "        0.0000e+00, 2.0000e+00, 4.0000e+00, 0.0000e+00, 3.0000e+00]),\n",
              " array([   0. ,  217.8,  435.6,  653.4,  871.2, 1089. , 1306.8, 1524.6,\n",
              "        1742.4, 1960.2, 2178. , 2395.8, 2613.6, 2831.4, 3049.2, 3267. ,\n",
              "        3484.8, 3702.6, 3920.4, 4138.2, 4356. ]),\n",
              " <a list of 20 Patch objects>)"
            ]
          },
          "metadata": {
            "tags": []
          },
          "execution_count": 22
        },
        {
          "output_type": "display_data",
          "data": {
            "image/png": "[encoded data removed]",
            "text/plain": [
              "<Figure size 432x288 with 1 Axes>"
            ]
          },
          "metadata": {
            "tags": [],
            "needs_background": "light"
          }
        }
      ]
    },
    {
      "cell_type": "markdown",
      "metadata": {
        "id": "Jv4NQLsjWL0L"
      },
      "source": [
        "###Question 4"
      ]
    },
    {
      "cell_type": "code",
      "metadata": {
        "colab": {
          "base_uri": "https://localhost:8080/",
          "height": 434
        },
        "id": "BSKr7R1ud-ac",
        "outputId": "03c7a0c3-643a-437e-d202-4b50ed176018"
      },
      "source": [
        "plt.hist(income94.fnlwgt, bins = 20)"
      ],
      "execution_count": 18,
      "outputs": [
        {
          "output_type": "execute_result",
          "data": {
            "text/plain": [
              "(array([4.4830e+03, 8.6340e+03, 1.0945e+04, 4.3820e+03, 2.5100e+03,\n",
              "        9.8800e+02, 3.4100e+02, 1.3600e+02, 6.4000e+01, 3.8000e+01,\n",
              "        1.5000e+01, 5.0000e+00, 5.0000e+00, 5.0000e+00, 2.0000e+00,\n",
              "        3.0000e+00, 1.0000e+00, 1.0000e+00, 1.0000e+00, 2.0000e+00]),\n",
              " array([  12285.,   85906.,  159527.,  233148.,  306769.,  380390.,\n",
              "         454011.,  527632.,  601253.,  674874.,  748495.,  822116.,\n",
              "         895737.,  969358., 1042979., 1116600., 1190221., 1263842.,\n",
              "        1337463., 1411084., 1484705.]),\n",
              " <a list of 20 Patch objects>)"
            ]
          },
          "metadata": {
            "tags": []
          },
          "execution_count": 18
        },
        {
          "output_type": "display_data",
          "data": {
            "image/png": "[encoded data removed]",
            "text/plain": [
              "<Figure size 432x288 with 1 Axes>"
            ]
          },
          "metadata": {
            "tags": [],
            "needs_background": "light"
          }
        }
      ]
    },
    {
      "cell_type": "markdown",
      "metadata": {
        "id": "tFStSP0sege7"
      },
      "source": [
        "The overall histogram of fnlwgt seems to be skewed to the right, and thus it is not symmetrically distributed."
      ]
    },
    {
      "cell_type": "code",
      "metadata": {
        "colab": {
          "base_uri": "https://localhost:8080/",
          "height": 351
        },
        "id": "gw990k9ze7R-",
        "outputId": "cd71fdd6-5fda-451b-902f-adf4c68f2486"
      },
      "source": [
        "income94[\"fnlwgt\"].hist(by=income94[\"sex\"])"
      ],
      "execution_count": 45,
      "outputs": [
        {
          "output_type": "execute_result",
          "data": {
            "text/plain": [
              "array([<matplotlib.axes._subplots.AxesSubplot object at 0x7fc392b81550>,\n",
              "       <matplotlib.axes._subplots.AxesSubplot object at 0x7fc39522ee80>],\n",
              "      dtype=object)"
            ]
          },
          "metadata": {
            "tags": []
          },
          "execution_count": 45
        },
        {
          "output_type": "display_data",
          "data": {
            "image/png": "[encoded data removed]",
            "text/plain": [
              "<Figure size 432x288 with 2 Axes>"
            ]
          },
          "metadata": {
            "tags": [],
            "needs_background": "light"
          }
        }
      ]
    },
    {
      "cell_type": "markdown",
      "metadata": {
        "id": "edrMWBB1k91T"
      },
      "source": [
        "The shape of both female and male population appears to be skewed to the right, similar to the histogram of the overall population. However, the values y-axis of the female histogram are half that of the values of the male histogram."
      ]
    },
    {
      "cell_type": "markdown",
      "metadata": {
        "id": "UYzV1cjyxzBb"
      },
      "source": [
        "Regarding outliers, the fnlwgt variable is meant to allow groups that are less represented in the dataset to have a more equal representation in calculations. Thus, it seems wrong to remove outliers from this variable, as they would most likely be data points that were weighted higher, and thus are from demographics that are less represented in the overall dataset. By removing the outliers, we risk removing entire demographics from our analysis, as stated in the text description of adult.names, \"People with similar demographic characteristics should have similar weights.\""
      ]
    },
    {
      "cell_type": "markdown",
      "metadata": {
        "id": "89d8w5U6WP0u"
      },
      "source": [
        "##Correlation"
      ]
    },
    {
      "cell_type": "code",
      "metadata": {
        "colab": {
          "base_uri": "https://localhost:8080/",
          "height": 141
        },
        "id": "26EOVncRl1U1",
        "outputId": "e1a8b786-684d-4c87-9fda-b160eafcbed4"
      },
      "source": [
        "df = income94[[\"age\", \"education_num\", \"hours_per_week\"]]\r\n",
        "df.corr()"
      ],
      "execution_count": 38,
      "outputs": [
        {
          "output_type": "execute_result",
          "data": {
            "text/html": [
              "<div>\n",
              "<style scoped>\n",
              "    .dataframe tbody tr th:only-of-type {\n",
              "        vertical-align: middle;\n",
              "    }\n",
              "\n",
              "    .dataframe tbody tr th {\n",
              "        vertical-align: top;\n",
              "    }\n",
              "\n",
              "    .dataframe thead th {\n",
              "        text-align: right;\n",
              "    }\n",
              "</style>\n",
              "<table border=\"1\" class=\"dataframe\">\n",
              "  <thead>\n",
              "    <tr style=\"text-align: right;\">\n",
              "      <th></th>\n",
              "      <th>age</th>\n",
              "      <th>education_num</th>\n",
              "      <th>hours_per_week</th>\n",
              "    </tr>\n",
              "  </thead>\n",
              "  <tbody>\n",
              "    <tr>\n",
              "      <th>age</th>\n",
              "      <td>1.000000</td>\n",
              "      <td>0.036527</td>\n",
              "      <td>0.068756</td>\n",
              "    </tr>\n",
              "    <tr>\n",
              "      <th>education_num</th>\n",
              "      <td>0.036527</td>\n",
              "      <td>1.000000</td>\n",
              "      <td>0.148123</td>\n",
              "    </tr>\n",
              "    <tr>\n",
              "      <th>hours_per_week</th>\n",
              "      <td>0.068756</td>\n",
              "      <td>0.148123</td>\n",
              "      <td>1.000000</td>\n",
              "    </tr>\n",
              "  </tbody>\n",
              "</table>\n",
              "</div>"
            ],
            "text/plain": [
              "                     age  education_num  hours_per_week\n",
              "age             1.000000       0.036527        0.068756\n",
              "education_num   0.036527       1.000000        0.148123\n",
              "hours_per_week  0.068756       0.148123        1.000000"
            ]
          },
          "metadata": {
            "tags": []
          },
          "execution_count": 38
        }
      ]
    },
    {
      "cell_type": "markdown",
      "metadata": {
        "id": "aJLsz-1OnaNR"
      },
      "source": [
        "None of the variables seem strongly correlated. The highest correlation is between education_num and hours_per_week, at 0.14. However, that number is still quite small. Since it is the only value that is greater than |0.1|, it is the only one we will statistically test.\r\n",
        "\r\n",
        "To test the correlation coefficient, we will perform a hypothesis test. Our null hypothesis is that education_num and hours_per_week have no relationship. Our alternate hypothesis is that there is a relationship between education_num and hours_per_week. We will use a significance level of 0.05."
      ]
    },
    {
      "cell_type": "code",
      "metadata": {
        "colab": {
          "base_uri": "https://localhost:8080/",
          "height": 0
        },
        "id": "cPIl4IoOJYDn",
        "outputId": "b2777c76-0111-4777-ecb3-be739528279a"
      },
      "source": [
        "stats.pearsonr(income94[\"education_num\"], income94[\"hours_per_week\"])"
      ],
      "execution_count": 47,
      "outputs": [
        {
          "output_type": "execute_result",
          "data": {
            "text/plain": [
              "(0.1481227326229122, 4.2366474790836004e-159)"
            ]
          },
          "metadata": {
            "tags": []
          },
          "execution_count": 47
        }
      ]
    },
    {
      "cell_type": "markdown",
      "metadata": {
        "id": "VRtVmnI_NhiC"
      },
      "source": [
        "We can see that the p-value is much smaller than our significance level. Thus, we can reject the null hypothesis and state that education_num and hours_per_week do have a relationship. I'm not entirely certain what education_num represents. Thus, I don't think I am equipped to determine whether or not this direction or significance is expected, as I don't actually know what the connection between them is. I will say that the correlation seems very weak, so I was a bit surprised that the relationship was in fact significant."
      ]
    },
    {
      "cell_type": "code",
      "metadata": {
        "colab": {
          "base_uri": "https://localhost:8080/",
          "height": 0
        },
        "id": "78O9Xxe3RvvK",
        "outputId": "e4603fe0-8868-4cb3-cdf1-291a9448fa2a"
      },
      "source": [
        "income94_female = income94[income94[\"sex\"] == \" Female\"]\r\n",
        "stats.pearsonr(income94_female[\"education_num\"], income94_female[\"hours_per_week\"])"
      ],
      "execution_count": 69,
      "outputs": [
        {
          "output_type": "execute_result",
          "data": {
            "text/plain": [
              "(0.1787490716478521, 4.96659881860534e-78)"
            ]
          },
          "metadata": {
            "tags": []
          },
          "execution_count": 69
        }
      ]
    },
    {
      "cell_type": "code",
      "metadata": {
        "colab": {
          "base_uri": "https://localhost:8080/",
          "height": 0
        },
        "id": "18IwXwCxUK6_",
        "outputId": "fc60136c-3410-4683-81e4-32fe5b87a621"
      },
      "source": [
        "income94_male = income94[income94[\"sex\"] == \" Male\"]\r\n",
        "stats.pearsonr(income94_male[\"education_num\"], income94_male[\"hours_per_week\"])"
      ],
      "execution_count": 70,
      "outputs": [
        {
          "output_type": "execute_result",
          "data": {
            "text/plain": [
              "(0.13678240002850428, 1.7342523181609486e-91)"
            ]
          },
          "metadata": {
            "tags": []
          },
          "execution_count": 70
        }
      ]
    },
    {
      "cell_type": "markdown",
      "metadata": {
        "id": "XkHPmiD4Uamh"
      },
      "source": [
        "The correlation coefficients for both male and female participants are quite close to the correlation coefficient of the entire dataset, with women being slightly higher and men being slightly lower. The p-values differ as well, but they remain less than 0.05, so we can still reject the null hypothesis for both cases. None of this is unexpected."
      ]
    },
    {
      "cell_type": "code",
      "metadata": {
        "colab": {
          "base_uri": "https://localhost:8080/",
          "height": 0
        },
        "id": "2cDQx5KmXhju",
        "outputId": "2e57515e-c701-493a-9ae0-91ce3a355f74"
      },
      "source": [
        "income94[\"weighted_education_num\"] = income94[\"education_num\"] * income94[\"fnlwgt\"]\r\n",
        "income94[\"weighted_hours_per_week\"] = income94[\"hours_per_week\"] * income94[\"fnlwgt\"]\r\n",
        "income94[[\"education_num\", \"weighted_education_num\", \"hours_per_week\", \"weighted_hours_per_week\"]].var()"
      ],
      "execution_count": 79,
      "outputs": [
        {
          "output_type": "execute_result",
          "data": {
            "text/plain": [
              "education_num              6.618890e+00\n",
              "weighted_education_num     1.390253e+12\n",
              "hours_per_week             1.524590e+02\n",
              "weighted_hours_per_week    2.450618e+13\n",
              "dtype: float64"
            ]
          },
          "metadata": {
            "tags": []
          },
          "execution_count": 79
        }
      ]
    },
    {
      "cell_type": "markdown",
      "metadata": {
        "id": "N1vEStJSYaJI"
      },
      "source": [
        "In the weighted version of each column, we can see that the variance is significantly larger."
      ]
    },
    {
      "cell_type": "code",
      "metadata": {
        "colab": {
          "base_uri": "https://localhost:8080/",
          "height": 171
        },
        "id": "xB5bBVbnY8sG",
        "outputId": "d40390e9-0770-4719-fb5a-b80f6ed1549c"
      },
      "source": [
        "income94[[\"education_num\", \"weighted_education_num\", \"hours_per_week\", \"weighted_hours_per_week\"]].cov()"
      ],
      "execution_count": 80,
      "outputs": [
        {
          "output_type": "execute_result",
          "data": {
            "text/html": [
              "<div>\n",
              "<style scoped>\n",
              "    .dataframe tbody tr th:only-of-type {\n",
              "        vertical-align: middle;\n",
              "    }\n",
              "\n",
              "    .dataframe tbody tr th {\n",
              "        vertical-align: top;\n",
              "    }\n",
              "\n",
              "    .dataframe thead th {\n",
              "        text-align: right;\n",
              "    }\n",
              "</style>\n",
              "<table border=\"1\" class=\"dataframe\">\n",
              "  <thead>\n",
              "    <tr style=\"text-align: right;\">\n",
              "      <th></th>\n",
              "      <th>education_num</th>\n",
              "      <th>weighted_education_num</th>\n",
              "      <th>hours_per_week</th>\n",
              "      <th>weighted_hours_per_week</th>\n",
              "    </tr>\n",
              "  </thead>\n",
              "  <tbody>\n",
              "    <tr>\n",
              "      <th>education_num</th>\n",
              "      <td>6.618890e+00</td>\n",
              "      <td>1.178453e+06</td>\n",
              "      <td>4.705338e+00</td>\n",
              "      <td>4.066383e+05</td>\n",
              "    </tr>\n",
              "    <tr>\n",
              "      <th>weighted_education_num</th>\n",
              "      <td>1.178453e+06</td>\n",
              "      <td>1.390253e+12</td>\n",
              "      <td>6.343728e+05</td>\n",
              "      <td>4.558904e+12</td>\n",
              "    </tr>\n",
              "    <tr>\n",
              "      <th>hours_per_week</th>\n",
              "      <td>4.705338e+00</td>\n",
              "      <td>6.343728e+05</td>\n",
              "      <td>1.524590e+02</td>\n",
              "      <td>2.678528e+07</td>\n",
              "    </tr>\n",
              "    <tr>\n",
              "      <th>weighted_hours_per_week</th>\n",
              "      <td>4.066383e+05</td>\n",
              "      <td>4.558904e+12</td>\n",
              "      <td>2.678528e+07</td>\n",
              "      <td>2.450618e+13</td>\n",
              "    </tr>\n",
              "  </tbody>\n",
              "</table>\n",
              "</div>"
            ],
            "text/plain": [
              "                         education_num  ...  weighted_hours_per_week\n",
              "education_num             6.618890e+00  ...             4.066383e+05\n",
              "weighted_education_num    1.178453e+06  ...             4.558904e+12\n",
              "hours_per_week            4.705338e+00  ...             2.678528e+07\n",
              "weighted_hours_per_week   4.066383e+05  ...             2.450618e+13\n",
              "\n",
              "[4 rows x 4 columns]"
            ]
          },
          "metadata": {
            "tags": []
          },
          "execution_count": 80
        }
      ]
    },
    {
      "cell_type": "markdown",
      "metadata": {
        "id": "vKnrF88IZNxa"
      },
      "source": [
        "Similarly, the weighted covariance between education_num and hours_per_week is significantly larger than the unweighted covariance. Since the variance and covariance increases in all weighted cases, this could mean that there are not many values that deviate far from the mean in the dataset. That would explain why when the weight of underrepresented groups is increased, the variance and covariance between education_num and hours_per_week increases."
      ]
    },
    {
      "cell_type": "markdown",
      "metadata": {
        "id": "GhSALcnOWRQc"
      },
      "source": [
        "##Regression"
      ]
    },
    {
      "cell_type": "code",
      "metadata": {
        "colab": {
          "base_uri": "https://localhost:8080/",
          "height": 731
        },
        "id": "BlcLP1xLorSe",
        "outputId": "6b2d31f0-c12d-465b-8e4e-3996359d3277"
      },
      "source": [
        "dummy_income94 = pd.get_dummies(income94, columns=[\"sex\", \"gross_income_group\"])\r\n",
        "dummy_income94 = dummy_income94.rename(columns={\"sex_ Male\":\"sex_Male\", \"gross_income_group_ >50K\":\"gross_income_group_over_50K\"})\r\n",
        "reg1 = smf.ols('hours_per_week ~ sex_Male', data = dummy_income94).fit()\r\n",
        "print(reg1.summary())\r\n",
        "sns.regplot(x='sex_Male', y='hours_per_week', data=dummy_income94)"
      ],
      "execution_count": 152,
      "outputs": [
        {
          "output_type": "stream",
          "text": [
            "                            OLS Regression Results                            \n",
            "==============================================================================\n",
            "Dep. Variable:         hours_per_week   R-squared:                       0.053\n",
            "Model:                            OLS   Adj. R-squared:                  0.053\n",
            "Method:                 Least Squares   F-statistic:                     1807.\n",
            "Date:                Mon, 08 Feb 2021   Prob (F-statistic):               0.00\n",
            "Time:                        04:04:49   Log-Likelihood:            -1.2716e+05\n",
            "No. Observations:               32561   AIC:                         2.543e+05\n",
            "Df Residuals:                   32559   BIC:                         2.543e+05\n",
            "Df Model:                           1                                         \n",
            "Covariance Type:            nonrobust                                         \n",
            "==============================================================================\n",
            "                 coef    std err          t      P>|t|      [0.025      0.975]\n",
            "------------------------------------------------------------------------------\n",
            "Intercept     36.4104      0.116    314.412      0.000      36.183      36.637\n",
            "sex_Male       6.0177      0.142     42.510      0.000       5.740       6.295\n",
            "==============================================================================\n",
            "Omnibus:                     2649.390   Durbin-Watson:                   2.019\n",
            "Prob(Omnibus):                  0.000   Jarque-Bera (JB):            13090.867\n",
            "Skew:                           0.239   Prob(JB):                         0.00\n",
            "Kurtosis:                       6.069   Cond. No.                         3.24\n",
            "==============================================================================\n",
            "\n",
            "Warnings:\n",
            "[1] Standard Errors assume that the covariance matrix of the errors is correctly specified.\n"
          ],
          "name": "stdout"
        },
        {
          "output_type": "execute_result",
          "data": {
            "text/plain": [
              "<matplotlib.axes._subplots.AxesSubplot at 0x7fc3922c4438>"
            ]
          },
          "metadata": {
            "tags": []
          },
          "execution_count": 152
        },
        {
          "output_type": "display_data",
          "data": {
            "image/png": "[encoded data removed]",
            "text/plain": [
              "<Figure size 432x288 with 1 Axes>"
            ]
          },
          "metadata": {
            "tags": [],
            "needs_background": "light"
          }
        }
      ]
    },
    {
      "cell_type": "markdown",
      "metadata": {
        "id": "ahVw8dC9jtCc"
      },
      "source": [
        "We can see that coefficient for the sex variable (which I have taken to represent whether or not a participant is male) is positive. This means that men do tend to work more hours than woman."
      ]
    },
    {
      "cell_type": "code",
      "metadata": {
        "colab": {
          "base_uri": "https://localhost:8080/"
        },
        "id": "8fVduVbGekkW",
        "outputId": "643ee621-5f1d-47eb-fd3a-c9780116104b"
      },
      "source": [
        "reg2 = smf.ols('hours_per_week ~ sex_Male + education_num', data = dummy_income94).fit()\r\n",
        "print(reg2.summary())"
      ],
      "execution_count": 148,
      "outputs": [
        {
          "output_type": "stream",
          "text": [
            "                            OLS Regression Results                            \n",
            "==============================================================================\n",
            "Dep. Variable:         hours_per_week   R-squared:                       0.074\n",
            "Model:                            OLS   Adj. R-squared:                  0.074\n",
            "Method:                 Least Squares   F-statistic:                     1295.\n",
            "Date:                Mon, 08 Feb 2021   Prob (F-statistic):               0.00\n",
            "Time:                        03:27:30   Log-Likelihood:            -1.2680e+05\n",
            "No. Observations:               32561   AIC:                         2.536e+05\n",
            "Df Residuals:                   32558   BIC:                         2.536e+05\n",
            "Df Model:                           2                                         \n",
            "Covariance Type:            nonrobust                                         \n",
            "=================================================================================\n",
            "                    coef    std err          t      P>|t|      [0.025      0.975]\n",
            "---------------------------------------------------------------------------------\n",
            "Intercept        29.4106      0.281    104.556      0.000      28.859      29.962\n",
            "sex_Male          5.9709      0.140     42.653      0.000       5.697       6.245\n",
            "education_num     0.6975      0.026     27.244      0.000       0.647       0.748\n",
            "==============================================================================\n",
            "Omnibus:                     2783.881   Durbin-Watson:                   2.018\n",
            "Prob(Omnibus):                  0.000   Jarque-Bera (JB):            14492.060\n",
            "Skew:                           0.247   Prob(JB):                         0.00\n",
            "Kurtosis:                       6.231   Cond. No.                         45.6\n",
            "==============================================================================\n",
            "\n",
            "Warnings:\n",
            "[1] Standard Errors assume that the covariance matrix of the errors is correctly specified.\n"
          ],
          "name": "stdout"
        }
      ]
    },
    {
      "cell_type": "markdown",
      "metadata": {
        "id": "mv1oRki8rkKY"
      },
      "source": [
        "Men still seem to work more hours than woman when education_num is included. However, the intercept of the data is significantly lower. The coefficient of the sex_Male variable is quite similar. Thus, the education_num variable seems to affect the steepness of the regression by a noticeable amount."
      ]
    },
    {
      "cell_type": "code",
      "metadata": {
        "colab": {
          "base_uri": "https://localhost:8080/"
        },
        "id": "WFsAdckAtNbV",
        "outputId": "ba0f2c99-a3c1-4b0a-fd5e-c90bd25c13a2"
      },
      "source": [
        "reg3 = smf.ols('hours_per_week ~ sex_Male + education_num + gross_income_group_over_50K', data = dummy_income94).fit()\r\n",
        "print(reg3.summary())"
      ],
      "execution_count": 154,
      "outputs": [
        {
          "output_type": "stream",
          "text": [
            "                            OLS Regression Results                            \n",
            "==============================================================================\n",
            "Dep. Variable:         hours_per_week   R-squared:                       0.094\n",
            "Model:                            OLS   Adj. R-squared:                  0.094\n",
            "Method:                 Least Squares   F-statistic:                     1130.\n",
            "Date:                Mon, 08 Feb 2021   Prob (F-statistic):               0.00\n",
            "Time:                        04:05:28   Log-Likelihood:            -1.2643e+05\n",
            "No. Observations:               32561   AIC:                         2.529e+05\n",
            "Df Residuals:                   32557   BIC:                         2.529e+05\n",
            "Df Model:                           3                                         \n",
            "Covariance Type:            nonrobust                                         \n",
            "===============================================================================================\n",
            "                                  coef    std err          t      P>|t|      [0.025      0.975]\n",
            "-----------------------------------------------------------------------------------------------\n",
            "Intercept                      31.4218      0.288    109.184      0.000      30.858      31.986\n",
            "sex_Male                        5.1010      0.142     35.907      0.000       4.823       5.379\n",
            "education_num                   0.4478      0.027     16.632      0.000       0.395       0.501\n",
            "gross_income_group_over_50K     4.5175      0.166     27.229      0.000       4.192       4.843\n",
            "==============================================================================\n",
            "Omnibus:                     2984.190   Durbin-Watson:                   2.015\n",
            "Prob(Omnibus):                  0.000   Jarque-Bera (JB):            15467.160\n",
            "Skew:                           0.296   Prob(JB):                         0.00\n",
            "Kurtosis:                       6.324   Cond. No.                         48.1\n",
            "==============================================================================\n",
            "\n",
            "Warnings:\n",
            "[1] Standard Errors assume that the covariance matrix of the errors is correctly specified.\n"
          ],
          "name": "stdout"
        }
      ]
    },
    {
      "cell_type": "markdown",
      "metadata": {
        "id": "jF58tGM90dP6"
      },
      "source": [
        "I would use the R-squared value to determine the best model, since it is a statistical measure of how close the data is to the regression line. Since the highest R-squared value belongs to the regression with three variables, I would pick it as the best model."
      ]
    }
  ]
}